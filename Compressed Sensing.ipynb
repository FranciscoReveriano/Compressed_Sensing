{
 "cells": [
  {
   "cell_type": "markdown",
   "metadata": {},
   "source": [
    "# Miniproject 1\n",
    "Duke University: ECE 580\n",
    "Francisco Reveriano"
   ]
  },
  {
   "cell_type": "code",
   "execution_count": 1,
   "metadata": {},
   "outputs": [
    {
     "name": "stdout",
     "output_type": "stream",
     "text": [
      "Original Image\n",
      "X: 200 Y: 192\n",
      "(64, 64)\n"
     ]
    }
   ],
   "source": [
    "# Import Necessary Libraries\n",
    "import numpy as np\n",
    "import matplotlib.pyplot as plt\n",
    "from DCT.DCT_Matrix import *\n",
    "from Regression_compressive_sensing import imgRead, imgShow, imgRecover"
   ]
  },
  {
   "cell_type": "markdown",
   "metadata": {},
   "source": [
    "## Load Images\n",
    "\n",
    "We First Proceed To Load the Boat Image. We then check the dimensions to make sure that the dimensions are single channel. We can then proceed to process the image. "
   ]
  },
  {
   "cell_type": "code",
   "execution_count": 2,
   "metadata": {},
   "outputs": [
    {
     "name": "stdout",
     "output_type": "stream",
     "text": [
      "Boat Image Dimensions\n",
      "X: 200 Y 192\n"
     ]
    }
   ],
   "source": [
    "# Read/Load Images\n",
    "boat = 'fishing_boat.bmp'\n",
    "lena = \"lena.bmp\"\n",
    "\n",
    "## Read the Boat Image\n",
    "matrix = imgRead(boat)\n",
    "P, Q = matrix.shape\n",
    "print(\"Boat Image Dimensions\")\n",
    "print(\"X:\", P, \"Y\",Q)"
   ]
  },
  {
   "cell_type": "markdown",
   "metadata": {},
   "source": [
    "## Prepare the DCT(T) Matrix\n",
    "\n",
    "To calculate the DCT Matrix we proceed to use the formula given in the powerpoint. "
   ]
  },
  {
   "cell_type": "code",
   "execution_count": 3,
   "metadata": {},
   "outputs": [
    {
     "name": "stdout",
     "output_type": "stream",
     "text": [
      "Transformation Shape\n",
      "(64, 64)\n"
     ]
    }
   ],
   "source": [
    "# We First Declare the Dimensions for the T Matrix \n",
    "dimension = (8,8)\n",
    "## We then call the DCT_Matrix function to create the DCT Matrix\n",
    "T_Matrix = DCT_Matrix(dimension[0], dimension[1])\n",
    "### We then Check that the T_Matrix is the correct dimensions\n",
    "print(\"Transformation Shape\")\n",
    "print(T_Matrix.shape)"
   ]
  },
  {
   "cell_type": "code",
   "execution_count": null,
   "metadata": {},
   "outputs": [],
   "source": []
  }
 ],
 "metadata": {
  "kernelspec": {
   "display_name": "Python 3",
   "language": "python",
   "name": "python3"
  },
  "language_info": {
   "codemirror_mode": {
    "name": "ipython",
    "version": 3
   },
   "file_extension": ".py",
   "mimetype": "text/x-python",
   "name": "python",
   "nbconvert_exporter": "python",
   "pygments_lexer": "ipython3",
   "version": "3.7.4"
  },
  "toc": {
   "base_numbering": 1,
   "nav_menu": {},
   "number_sections": true,
   "sideBar": true,
   "skip_h1_title": true,
   "title_cell": "Table of Contents",
   "title_sidebar": "Contents",
   "toc_cell": false,
   "toc_position": {
    "height": "calc(100% - 180px)",
    "left": "10px",
    "top": "150px",
    "width": "370.6px"
   },
   "toc_section_display": true,
   "toc_window_display": true
  }
 },
 "nbformat": 4,
 "nbformat_minor": 4
}
