{
 "cells": [
  {
   "cell_type": "markdown",
   "metadata": {},
   "source": [
    "# Miniproject 1\n",
    "Duke University: ECE 580\n",
    "Francisco Reveriano"
   ]
  },
  {
   "cell_type": "code",
   "execution_count": 1,
   "metadata": {},
   "outputs": [
    {
     "name": "stdout",
     "output_type": "stream",
     "text": [
      "Original Image\n",
      "X: 200 Y: 192\n",
      "Transformation matrix: (16, 16)\n",
      "Patch Original Shape: (4, 4)\n",
      "First C Flatten Shape: (16,)\n",
      "Mask Shape: (16,)\n",
      "Mask Non-Sparse Values: 7\n",
      "C Non-Sparse Values: 7\n",
      "B Non-Sparse Values: 7\n",
      "A Non-Sparse Values: 7\n",
      "B Shape: (7,)\n",
      "A Shape: (7, 16)\n",
      "Alpha Shape: (16,)\n",
      "[[176 177 178 179]\n",
      " [177 176 177 178]\n",
      " [176 176 176 178]\n",
      " [177 177 178 177]]\n",
      "[[180.41421356 177.         178.         179.        ]\n",
      " [177.         176.         178.         178.        ]\n",
      " [172.17157288 174.58578644 178.         176.58578644]\n",
      " [168.75735931 173.58578644 178.         175.58578644]]\n"
     ]
    }
   ],
   "source": [
    "# Import Necessary Libraries\n",
    "import numpy as np\n",
    "import matplotlib.pyplot as plt\n",
    "from DCT.DCT_Matrix import *\n",
    "from Regression_compressive_sensing import imgRead, imgShow, imgRecover\n",
    "from sklearn.feature_extraction import image\n",
    "from DCT.DCT_Matrix import DCT_Matrix\n",
    "from util.util import *\n",
    "from MOSEK.mosek import *"
   ]
  },
  {
   "cell_type": "markdown",
   "metadata": {},
   "source": [
    "## Load Images\n",
    "\n",
    "We First Proceed To Load the Boat Image. We then check the dimensions to make sure that the dimensions are single channel. We can then proceed to process the image. "
   ]
  },
  {
   "cell_type": "code",
   "execution_count": 2,
   "metadata": {},
   "outputs": [
    {
     "name": "stdout",
     "output_type": "stream",
     "text": [
      "Boat Image Dimensions\n",
      "X: 200 Y 192\n"
     ]
    }
   ],
   "source": [
    "# Read/Load Images\n",
    "boat = 'fishing_boat.bmp'\n",
    "lena = \"lena.bmp\"\n",
    "\n",
    "## Read the Boat Image\n",
    "matrix = imgRead(boat)\n",
    "P, Q = matrix.shape\n",
    "print(\"Boat Image Dimensions\")\n",
    "print(\"X:\", P, \"Y\",Q)"
   ]
  },
  {
   "cell_type": "markdown",
   "metadata": {},
   "source": [
    "## Test DCT Matrix\n",
    "\n",
    "I am going to first test the performance of the DCT Matrix by Testing a single patch of the Image. "
   ]
  },
  {
   "cell_type": "markdown",
   "metadata": {},
   "source": [
    "### Read The Boat Image"
   ]
  },
  {
   "cell_type": "code",
   "execution_count": 3,
   "metadata": {},
   "outputs": [
    {
     "name": "stdout",
     "output_type": "stream",
     "text": [
      "Original Image\n",
      "X: 200 Y: 192\n"
     ]
    }
   ],
   "source": [
    "## Read the Image Into Matrix\n",
    "matrix = imgRead(boat)       \n",
    "## Width and Length of Matrix\n",
    "P, Q = matrix.shape                                                                                                     # Width and Length of Matrix\n",
    "print(\"Original Image\")\n",
    "print(\"X:\", P, \"Y:\",Q)"
   ]
  },
  {
   "cell_type": "markdown",
   "metadata": {},
   "source": [
    "### Prepare DCT Matrix"
   ]
  },
  {
   "cell_type": "code",
   "execution_count": 4,
   "metadata": {},
   "outputs": [
    {
     "name": "stdout",
     "output_type": "stream",
     "text": [
      "Transformation Shape\n",
      "(16, 16)\n"
     ]
    }
   ],
   "source": [
    "# We First Declare the Dimensions for the T Matrix \n",
    "dimension = (4,4)\n",
    "## We then call the DCT_Matrix function to create the DCT Matrix\n",
    "T_Matrix = DCT_Matrix(dimension[0], dimension[1])\n",
    "### We then Check that the T_Matrix is the correct dimensions\n",
    "print(\"Transformation Shape\")\n",
    "print(T_Matrix.shape)"
   ]
  },
  {
   "cell_type": "markdown",
   "metadata": {},
   "source": [
    "### Split the Image Into Patches\n",
    "\n",
    "I am utilizing Scikit learning Image Extract Patches 2D function. This is to make the process easier. "
   ]
  },
  {
   "cell_type": "code",
   "execution_count": 5,
   "metadata": {},
   "outputs": [
    {
     "name": "stdout",
     "output_type": "stream",
     "text": [
      "Patch Original Shape: (4, 4)\n"
     ]
    }
   ],
   "source": [
    "patches_original_image = image.extract_patches_2d(matrix,dimension)                                                     # Turn into Patches the main Matrix\n",
    "print(\"Patch Original Shape:\",patches_original_image[0].shape)"
   ]
  },
  {
   "cell_type": "markdown",
   "metadata": {},
   "source": [
    "### Declare C Matrix"
   ]
  },
  {
   "cell_type": "code",
   "execution_count": 6,
   "metadata": {},
   "outputs": [
    {
     "name": "stdout",
     "output_type": "stream",
     "text": [
      "First C Flatten Shape: (16,)\n"
     ]
    }
   ],
   "source": [
    "# Flatten the First Patch to Create C\n",
    "c = patches_original_image[0].flatten()\n",
    "print(\"First C Flatten Shape:\", c.shape)  "
   ]
  },
  {
   "cell_type": "markdown",
   "metadata": {},
   "source": [
    "### Make and Utilize the Mask"
   ]
  },
  {
   "cell_type": "code",
   "execution_count": 7,
   "metadata": {},
   "outputs": [
    {
     "name": "stdout",
     "output_type": "stream",
     "text": [
      "Mask Shape: (16,)\n",
      "Mask Non-Sparse Values: 9\n",
      "C Non-Sparse Values: 9\n",
      "B Non-Sparse Values: 9\n",
      "A Non-Sparse Values: 9\n",
      "B Shape: (9,)\n",
      "A Shape: (9, 16)\n"
     ]
    }
   ],
   "source": [
    "# Using Random Number Generator to Create Mask to Smaple\n",
    "mask = np.random.randint(2, size=c.shape)\n",
    "print(\"Mask Shape:\",mask.shape)\n",
    "print(\"Mask Non-Sparse Values:\", count_non_sparse_values(mask))\n",
    "\n",
    "# Get the New Sparse matrix\n",
    "new_matrix = mask * c                                                                                                   # Taking Dot Product\n",
    "## The Next Part is minimizing this matrix\n",
    "C_values = count_non_sparse_values(new_matrix)                                                                          # Count the Values in the C Matrix that are non-sparse\n",
    "print(\"C Non-Sparse Values:\", C_values)\n",
    "## Next part is creating the new sparse C matrix\n",
    "B_Matrix = convert_C_to_B(C_values, new_matrix)\n",
    "B_values = count_non_sparse_values(B_Matrix)\n",
    "print(\"B Non-Sparse Values:\", B_values)\n",
    "assert(B_values == B_Matrix.shape[0])\n",
    "\n",
    "# Convert the T Matrix to A\n",
    "A_Matrix = convert_T_to_A(mask, T_Matrix)\n",
    "A_values = count_non_sparse_values(A_Matrix.T[0])\n",
    "print(\"A Non-Sparse Values:\", A_values)\n",
    "\n",
    "# At this point we need to set up our optimizer\n",
    "print(\"B Shape:\", B_Matrix.shape)\n",
    "print(\"A Shape:\", A_Matrix.shape)\n"
   ]
  },
  {
   "cell_type": "markdown",
   "metadata": {},
   "source": [
    "### Use Mosek\n",
    "I utilize Mosek to solve the underdetermined linear system. \n",
    "We can see that our values are very similar. Utilizing the Discrete cosine technique. "
   ]
  },
  {
   "cell_type": "code",
   "execution_count": 9,
   "metadata": {},
   "outputs": [
    {
     "name": "stdout",
     "output_type": "stream",
     "text": [
      "[[176 177 178 179]\n",
      " [177 176 177 178]\n",
      " [176 176 176 178]\n",
      " [177 177 178 177]]\n",
      "[[179. 177. 178. 177.]\n",
      " [177. 175. 177. 175.]\n",
      " [176. 176. 176. 177.]\n",
      " [177. 177. 178. 178.]]\n"
     ]
    }
   ],
   "source": [
    "alpha, res = l1norm(A_Matrix,B_Matrix)\n",
    "C = np.matmul(T_Matrix,alpha)\n",
    "C = C.reshape((dimension))\n",
    "C = np.around(C)\n",
    "\n",
    "print(patches_original_image[0])\n",
    "print(C)"
   ]
  },
  {
   "cell_type": "code",
   "execution_count": null,
   "metadata": {},
   "outputs": [],
   "source": []
  }
 ],
 "metadata": {
  "kernelspec": {
   "display_name": "Python 3",
   "language": "python",
   "name": "python3"
  },
  "language_info": {
   "codemirror_mode": {
    "name": "ipython",
    "version": 3
   },
   "file_extension": ".py",
   "mimetype": "text/x-python",
   "name": "python",
   "nbconvert_exporter": "python",
   "pygments_lexer": "ipython3",
   "version": "3.7.4"
  },
  "toc": {
   "base_numbering": 1,
   "nav_menu": {},
   "number_sections": true,
   "sideBar": true,
   "skip_h1_title": true,
   "title_cell": "Table of Contents",
   "title_sidebar": "Contents",
   "toc_cell": false,
   "toc_position": {
    "height": "calc(100% - 180px)",
    "left": "10px",
    "top": "150px",
    "width": "370.6px"
   },
   "toc_section_display": true,
   "toc_window_display": true
  }
 },
 "nbformat": 4,
 "nbformat_minor": 4
}
